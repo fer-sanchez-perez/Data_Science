{
 "cells": [
  {
   "cell_type": "code",
   "execution_count": 49,
   "id": "offshore-robertson",
   "metadata": {
    "scrolled": false
   },
   "outputs": [
    {
     "data": {
      "text/plain": [
       "array([[16245.67080354]])"
      ]
     },
     "execution_count": 49,
     "metadata": {},
     "output_type": "execute_result"
    }
   ],
   "source": [
    "#70% entrenamiento departamentos\n",
    "import numpy as np\n",
    "import pandas as pd\n",
    "from sklearn import linear_model\n",
    "\n",
    "dr=pd.read_csv(r\"departamentos-pro.csv\",dtype=\"string\")\n",
    "\n",
    "dr['precio'] = dr['precio'].fillna('0')\n",
    "dr['precio'] = dr['precio'].apply(lambda x: x.replace('$', '').replace(',', '').replace('MN','').replace(' ','')).astype(float)\n",
    "dr['precio'] = dr['precio'].replace(0,np.NaN)\n",
    "dr['mets'] = dr['mets'].fillna('0')\n",
    "dr['mets'] = dr['mets'].astype(float)\n",
    "dr['mets'] = dr['mets'].replace(0,np.NaN)\n",
    "model=linear_model.LinearRegression()\n",
    "depapre=pd.DataFrame(dr.loc[dr['web-scraper-start-url'].str.contains(\"mirador\"),'precio'])\n",
    "depamet=pd.DataFrame(dr.loc[dr['web-scraper-start-url'].str.contains(\"mirador\"),'mets'])\n",
    "#print(depapre)100% = 73 70% = 51\n",
    "depapre=depapre.iloc[0:51]\n",
    "depamet=depamet.iloc[0:51]\n",
    "#print(depapre)\n",
    "\n",
    "model.fit(depamet,depapre)\n",
    "model.predict(pd.DataFrame([120]))"
   ]
  },
  {
   "cell_type": "code",
   "execution_count": 46,
   "id": "abandoned-production",
   "metadata": {},
   "outputs": [
    {
     "data": {
      "text/plain": [
       "array([[13382.30089306]])"
      ]
     },
     "execution_count": 46,
     "metadata": {},
     "output_type": "execute_result"
    }
   ],
   "source": [
    "#30% test deoartamentos\n",
    "import numpy as np\n",
    "import pandas as pd\n",
    "from sklearn import linear_model\n",
    "\n",
    "dr=pd.read_csv(r\"departamentos-pro.csv\",dtype=\"string\")\n",
    "\n",
    "dr['precio'] = dr['precio'].fillna('0')\n",
    "dr['precio'] = dr['precio'].apply(lambda x: x.replace('$', '').replace(',', '').replace('MN','').replace(' ','')).astype(float)\n",
    "dr['precio'] = dr['precio'].replace(0,np.NaN)\n",
    "dr['mets'] = dr['mets'].fillna('0')\n",
    "dr['mets'] = dr['mets'].astype(float)\n",
    "dr['mets'] = dr['mets'].replace(0,np.NaN)\n",
    "model=linear_model.LinearRegression()\n",
    "depapre=pd.DataFrame(dr.loc[dr['web-scraper-start-url'].str.contains(\"mirador\"),'precio'])\n",
    "depamet=pd.DataFrame(dr.loc[dr['web-scraper-start-url'].str.contains(\"mirador\"),'mets'])\n",
    "#print(depapre)100% = 73 70% = 51\n",
    "depapre=depapre.iloc[51:]\n",
    "depamet=depamet.iloc[51:]\n",
    "#print(depapre)\n",
    "\n",
    "model.fit(depamet,depapre)\n",
    "model.predict(pd.DataFrame([120]))"
   ]
  },
  {
   "cell_type": "code",
   "execution_count": 70,
   "id": "conservative-marble",
   "metadata": {},
   "outputs": [
    {
     "name": "stdout",
     "output_type": "stream",
     "text": [
      "         precio\n",
      "36    3800000.0\n",
      "188   1822842.0\n",
      "195   2050000.0\n",
      "224   2090000.0\n",
      "316   2480000.0\n",
      "...         ...\n",
      "8583  2299000.0\n",
      "8591  5000000.0\n",
      "8593  2980000.0\n",
      "8609  5000000.0\n",
      "8622  2450000.0\n",
      "\n",
      "[436 rows x 1 columns]\n"
     ]
    },
    {
     "data": {
      "text/plain": [
       "array([[2574685.115938]])"
      ]
     },
     "execution_count": 70,
     "metadata": {},
     "output_type": "execute_result"
    }
   ],
   "source": [
    "#70% entrenamiento casas\n",
    "import numpy as np\n",
    "import pandas as pd\n",
    "from sklearn import linear_model\n",
    "\n",
    "cv=pd.read_csv(r\"casas-pro.csv\",dtype=\"string\")\n",
    "\n",
    "cv['precio'] = cv['precio'].fillna('0')\n",
    "cv['precio'] = cv['precio'].apply(lambda x: x.replace('$', '').replace(',', '').replace('MN','').replace(' ','')).astype(float)\n",
    "cv['precio'] = cv['precio'].replace(0,np.NaN)\n",
    "cv['mets'] = cv['mets'].fillna('0')\n",
    "cv['mets'] = cv['mets'].astype(float)\n",
    "cv['mets'] = cv['mets'].replace(0,np.NaN)\n",
    "model=linear_model.LinearRegression()\n",
    "depapre=pd.DataFrame(cv.loc[cv['web-scraper-start-url'].str.contains(\"mirador\"),'precio'])\n",
    "depamet=pd.DataFrame(cv.loc[cv['web-scraper-start-url'].str.contains(\"mirador\"),'mets'])\n",
    "#print(depapre)100% = 436 70% = \n",
    "depapre=depapre.iloc[0:305]\n",
    "depamet=depamet.iloc[0:305]\n",
    "#print(depapre)\n",
    "\n",
    "model.fit(depamet,depapre)\n",
    "model.predict(pd.DataFrame([120]))"
   ]
  },
  {
   "cell_type": "code",
   "execution_count": 71,
   "id": "approximate-wells",
   "metadata": {},
   "outputs": [
    {
     "data": {
      "text/plain": [
       "array([[2185509.14762528]])"
      ]
     },
     "execution_count": 71,
     "metadata": {},
     "output_type": "execute_result"
    }
   ],
   "source": [
    "#30% test casas\n",
    "import numpy as np\n",
    "import pandas as pd\n",
    "from sklearn import linear_model\n",
    "\n",
    "cv=pd.read_csv(r\"casas-pro.csv\",dtype=\"string\")\n",
    "\n",
    "cv['precio'] = cv['precio'].fillna('0')\n",
    "cv['precio'] = cv['precio'].apply(lambda x: x.replace('$', '').replace(',', '').replace('MN','').replace(' ','')).astype(float)\n",
    "cv['precio'] = cv['precio'].replace(0,np.NaN)\n",
    "cv['mets'] = cv['mets'].fillna('0')\n",
    "cv['mets'] = cv['mets'].astype(float)\n",
    "cv['mets'] = cv['mets'].replace(0,np.NaN)\n",
    "model=linear_model.LinearRegression()\n",
    "depapre=pd.DataFrame(cv.loc[cv['web-scraper-start-url'].str.contains(\"mirador\"),'precio'])\n",
    "depamet=pd.DataFrame(cv.loc[cv['web-scraper-start-url'].str.contains(\"mirador\"),'mets'])\n",
    "#print(depapre)100% = 73 70% = 51\n",
    "depapre=depapre.iloc[305:]\n",
    "depamet=depamet.iloc[305:]\n",
    "#print(depapre)\n",
    "\n",
    "model.fit(depamet,depapre)\n",
    "model.predict(pd.DataFrame([120]))"
   ]
  },
  {
   "cell_type": "code",
   "execution_count": null,
   "id": "differential-ontario",
   "metadata": {},
   "outputs": [],
   "source": []
  }
 ],
 "metadata": {
  "kernelspec": {
   "display_name": "Python 3",
   "language": "python",
   "name": "python3"
  },
  "language_info": {
   "codemirror_mode": {
    "name": "ipython",
    "version": 3
   },
   "file_extension": ".py",
   "mimetype": "text/x-python",
   "name": "python",
   "nbconvert_exporter": "python",
   "pygments_lexer": "ipython3",
   "version": "3.6.9"
  }
 },
 "nbformat": 4,
 "nbformat_minor": 5
}
