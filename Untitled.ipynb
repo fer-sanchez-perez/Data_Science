{
 "cells": [
  {
   "cell_type": "code",
   "execution_count": 7,
   "id": "sporting-duplicate",
   "metadata": {},
   "outputs": [
    {
     "ename": "ModuleNotFoundError",
     "evalue": "No module named 'matplotlib'",
     "output_type": "error",
     "traceback": [
      "\u001b[0;31m---------------------------------------------------------------------------\u001b[0m",
      "\u001b[0;31mModuleNotFoundError\u001b[0m                       Traceback (most recent call last)",
      "\u001b[0;32m<ipython-input-7-be629daede03>\u001b[0m in \u001b[0;36m<module>\u001b[0;34m\u001b[0m\n\u001b[1;32m      1\u001b[0m \u001b[0;32mimport\u001b[0m \u001b[0mnumpy\u001b[0m \u001b[0;32mas\u001b[0m \u001b[0mnp\u001b[0m\u001b[0;34m\u001b[0m\u001b[0;34m\u001b[0m\u001b[0m\n\u001b[1;32m      2\u001b[0m \u001b[0;32mimport\u001b[0m \u001b[0mpandas\u001b[0m \u001b[0;32mas\u001b[0m \u001b[0mpd\u001b[0m\u001b[0;34m\u001b[0m\u001b[0;34m\u001b[0m\u001b[0m\n\u001b[0;32m----> 3\u001b[0;31m \u001b[0;32mimport\u001b[0m \u001b[0mmatplotlib\u001b[0m \u001b[0;32mas\u001b[0m \u001b[0mmpl\u001b[0m\u001b[0;34m\u001b[0m\u001b[0;34m\u001b[0m\u001b[0m\n\u001b[0m\u001b[1;32m      4\u001b[0m \u001b[0mdr\u001b[0m\u001b[0;34m=\u001b[0m\u001b[0mpd\u001b[0m\u001b[0;34m.\u001b[0m\u001b[0mread_csv\u001b[0m\u001b[0;34m(\u001b[0m\u001b[0;34mr\"departamentos-nuevo.csv\"\u001b[0m\u001b[0;34m,\u001b[0m\u001b[0mdtype\u001b[0m\u001b[0;34m=\u001b[0m\u001b[0;34m\"string\"\u001b[0m\u001b[0;34m)\u001b[0m\u001b[0;34m\u001b[0m\u001b[0;34m\u001b[0m\u001b[0m\n\u001b[1;32m      5\u001b[0m \u001b[0mdr\u001b[0m\u001b[0;34m[\u001b[0m\u001b[0;34m'precio'\u001b[0m\u001b[0;34m]\u001b[0m \u001b[0;34m=\u001b[0m \u001b[0mdr\u001b[0m\u001b[0;34m[\u001b[0m\u001b[0;34m'precio'\u001b[0m\u001b[0;34m]\u001b[0m\u001b[0;34m.\u001b[0m\u001b[0mfillna\u001b[0m\u001b[0;34m(\u001b[0m\u001b[0;34m'0'\u001b[0m\u001b[0;34m)\u001b[0m\u001b[0;34m\u001b[0m\u001b[0;34m\u001b[0m\u001b[0m\n",
      "\u001b[0;31mModuleNotFoundError\u001b[0m: No module named 'matplotlib'"
     ]
    }
   ],
   "source": [
    "import numpy as np\n",
    "import pandas as pd\n",
    "import matplotlib as mpl\n",
    "dr=pd.read_csv(r\"departamentos-nuevo.csv\",dtype=\"string\")\n",
    "dr['precio'] = dr['precio'].fillna('0')\n",
    "dr['precio'] = dr['precio'].apply(lambda x: x.replace('$', '').replace(',', '').replace('MN','').replace(' ','').replace('NM','')).astype(float)\n",
    "dr['precio'] = dr['precio'].replace(0,np.NaN)\n",
    "print(\"El promedio de renta de un departamento es de: $\",round(dr['precio'].mean(),3))\n",
    "print(\"la desviacion estandar de los precios de renta de un departamento es de: $\",round(dr['precio'].std(),3))"
   ]
  },
  {
   "cell_type": "code",
   "execution_count": 4,
   "id": "banner-craft",
   "metadata": {},
   "outputs": [
    {
     "name": "stdout",
     "output_type": "stream",
     "text": [
      "El promedio de venta de una casa es de: $ 6077096.827\n",
      "la desviacion estandar de los precios de renta de un departamento es de: $ 25076642.909\n"
     ]
    }
   ],
   "source": [
    "dt=pd.read_csv(r\"scrap-casa-venta (2).csv\",dtype=\"string\")\n",
    "dt['precio'] = dt['precio'].fillna('0')\n",
    "dt['precio'] = dt['precio'].apply(lambda x: x.replace('$', '').replace(',', '').replace('MN','').replace(' ','').replace('NM','').replace('MX','')).astype(float)\n",
    "dt['precio'] = dt['precio'].replace(0,np.NaN)\n",
    "print(\"El promedio de venta de una casa es de: $\",round(dt['precio'].mean(),3))\n",
    "print(\"la desviacion estandar de los precios de renta de un departamento es de: $\",round(dt['precio'].std(),3))"
   ]
  },
  {
   "cell_type": "code",
   "execution_count": null,
   "id": "technical-behavior",
   "metadata": {},
   "outputs": [],
   "source": []
  }
 ],
 "metadata": {
  "kernelspec": {
   "display_name": "Python 3",
   "language": "python",
   "name": "python3"
  },
  "language_info": {
   "codemirror_mode": {
    "name": "ipython",
    "version": 3
   },
   "file_extension": ".py",
   "mimetype": "text/x-python",
   "name": "python",
   "nbconvert_exporter": "python",
   "pygments_lexer": "ipython3",
   "version": "3.6.9"
  }
 },
 "nbformat": 4,
 "nbformat_minor": 5
}
