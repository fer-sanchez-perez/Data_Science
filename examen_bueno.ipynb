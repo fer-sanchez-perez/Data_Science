{
 "cells": [
  {
   "cell_type": "code",
   "execution_count": 74,
   "id": "worthy-coupon",
   "metadata": {
    "scrolled": true
   },
   "outputs": [
    {
     "name": "stdout",
     "output_type": "stream",
     "text": [
      "     web-scraper-order                              web-scraper-start-url  \\\n",
      "0     1615702230-16312  https://www.inmuebles24.com/departamentos-en-r...   \n",
      "1     1615702145-16058  https://www.inmuebles24.com/departamentos-en-r...   \n",
      "2     1615702185-16186  https://www.inmuebles24.com/departamentos-en-r...   \n",
      "3     1615702129-15999  https://www.inmuebles24.com/departamentos-en-r...   \n",
      "4     1615702223-16301  https://www.inmuebles24.com/departamentos-en-r...   \n",
      "...                ...                                                ...   \n",
      "1144  1615701713-15373  https://www.lamudi.com.mx/queretaro-arteaga/qu...   \n",
      "1145  1615701747-15486  https://www.lamudi.com.mx/queretaro-arteaga/qu...   \n",
      "1146  1615701626-15076  https://www.lamudi.com.mx/queretaro-arteaga/qu...   \n",
      "1147  1615701694-15301  https://www.lamudi.com.mx/queretaro-arteaga/qu...   \n",
      "1148  1615701747-15482  https://www.lamudi.com.mx/queretaro-arteaga/qu...   \n",
      "\n",
      "                                               desc_dep precio_depa  \n",
      "0                 Departamento en Planta Baja con Patio   MN 10,000  \n",
      "1     Bonito Departamento en Desarrollo Exclusivo Au...   MN 28,000  \n",
      "2     Juriquilla, Departamento Amueblado Tipo Luxury...   MN 22,500  \n",
      "3     Se Renta Lujoso Departamento en Biosfera Tower...   MN 15,000  \n",
      "4     Departamento Renta en Wiseliving La Cañada en ...   MN 20,000  \n",
      "...                                                 ...         ...  \n",
      "1144                          Departamento - Juriquilla     $22,000  \n",
      "1145  RENTA O VENTA DEPARTAMENTO EN ALTAVISTA JURIQU...     $14,000  \n",
      "1146        DEPARTAMENTO EN RENTA AMUEBLADO, EN ADAMANT     $15,000  \n",
      "1147  Departamento Amueblado en Renta Planta Baja Ju...     $11,500  \n",
      "1148             Departamento en Renta. Juriquilla. FVR     $14,500  \n",
      "\n",
      "[1149 rows x 4 columns]\n"
     ]
    }
   ],
   "source": [
    "import numpy as np\n",
    "import pandas as pd\n",
    "df=pd.read_csv(r\"scrap-depas-orig .csv\",dtype=\"string\")\n",
    "print(df)"
   ]
  },
  {
   "cell_type": "code",
   "execution_count": 3,
   "id": "dynamic-september",
   "metadata": {
    "scrolled": true
   },
   "outputs": [
    {
     "name": "stdout",
     "output_type": "stream",
     "text": [
      "web-scraper-order        1149\n",
      "web-scraper-start-url    1149\n",
      "desc_dep                 1149\n",
      "precio_depa              1142\n",
      "dtype: int64\n",
      "web-scraper-order        string\n",
      "web-scraper-start-url    string\n",
      "desc_dep                 string\n",
      "precio_depa              string\n",
      "dtype: object\n"
     ]
    }
   ],
   "source": [
    "print(df.count())\n",
    "print(df.dtypes)"
   ]
  },
  {
   "cell_type": "code",
   "execution_count": 76,
   "id": "detected-logic",
   "metadata": {
    "scrolled": true
   },
   "outputs": [],
   "source": [
    "df['precio_depa'] = df['precio_depa'].fillna('0')\n",
    "df['precio_depa'] = df['precio_depa'].apply(lambda x: x.replace('$', '').replace(',', '').replace('MN','').replace('USD','').replace(' ','')).astype(float)"
   ]
  },
  {
   "cell_type": "code",
   "execution_count": 55,
   "id": "labeled-proposal",
   "metadata": {
    "scrolled": true
   },
   "outputs": [
    {
     "name": "stdout",
     "output_type": "stream",
     "text": [
      "0       10000\n",
      "1       28000\n",
      "2       22500\n",
      "3       15000\n",
      "4       20000\n",
      "        ...  \n",
      "1144    22000\n",
      "1145    14000\n",
      "1146    15000\n",
      "1147    11500\n",
      "1148    14500\n",
      "Name: precio_depa, Length: 1149, dtype: object\n"
     ]
    }
   ],
   "source": [
    "print(df['precio_depa'])"
   ]
  },
  {
   "cell_type": "code",
   "execution_count": 81,
   "id": "understanding-particle",
   "metadata": {
    "scrolled": false
   },
   "outputs": [],
   "source": [
    "df['precio_depa'] = df['precio_depa'].replace(0,np.NaN)"
   ]
  },
  {
   "cell_type": "code",
   "execution_count": 58,
   "id": "dated-lease",
   "metadata": {
    "scrolled": false
   },
   "outputs": [
    {
     "name": "stdout",
     "output_type": "stream",
     "text": [
      "web-scraper-order         string\n",
      "web-scraper-start-url     string\n",
      "desc_dep                  string\n",
      "precio_depa              float64\n",
      "dtype: object\n"
     ]
    }
   ],
   "source": [
    "print(df.dtypes)"
   ]
  },
  {
   "cell_type": "code",
   "execution_count": 82,
   "id": "vocational-separation",
   "metadata": {
    "scrolled": true
   },
   "outputs": [
    {
     "name": "stdout",
     "output_type": "stream",
     "text": [
      "26581.183012259193\n"
     ]
    }
   ],
   "source": [
    "promedio = df['precio_depa'].mean()\n",
    "print(promedio)"
   ]
  },
  {
   "cell_type": "code",
   "execution_count": 110,
   "id": "awful-humanity",
   "metadata": {
    "scrolled": true
   },
   "outputs": [
    {
     "name": "stdout",
     "output_type": "stream",
     "text": [
      "    web-scraper-order                              web-scraper-start-url  \\\n",
      "0     1616367587-1657  https://www.lamudi.com.mx/queretaro-arteaga/qu...   \n",
      "1     1616367671-1789  https://www.lamudi.com.mx/queretaro-arteaga/qu...   \n",
      "2     1616367608-1704  https://www.lamudi.com.mx/queretaro-arteaga/qu...   \n",
      "3     1616367838-2036  https://www.lamudi.com.mx/queretaro-arteaga/qu...   \n",
      "4     1616367734-1887  https://www.lamudi.com.mx/queretaro-arteaga/qu...   \n",
      "..                ...                                                ...   \n",
      "936    1616365440-730  https://www.inmuebles24.com/casas-en-renta-en-...   \n",
      "937    1616365654-949  https://www.inmuebles24.com/casas-en-renta-en-...   \n",
      "938    1616365654-954  https://www.inmuebles24.com/casas-en-renta-en-...   \n",
      "939    1616365312-635  https://www.inmuebles24.com/casas-en-renta-en-...   \n",
      "940    1616365483-759  https://www.inmuebles24.com/casas-en-renta-en-...   \n",
      "\n",
      "                                               descrip        precio  \n",
      "0          Casa en renta El Mirador 3 habitaciones AVH       $12,000  \n",
      "1                                    Casa - Juriquilla       $55,000  \n",
      "2        Casa en renta en Misión Mariana, Corregidora.       $10,000  \n",
      "3                       RENTA CASA REFUGIO RESIDENCIAL       $17,900  \n",
      "4                       CASA NUEVA EN RENTA JURIQUILLA       $14,200  \n",
      "..                                                 ...           ...  \n",
      "936                    Oficina en Renta Wtc Juriquilla     MN 14,000  \n",
      "937                        Casa en Renta El Refugio Lc     MN 13,000  \n",
      "938  Casa en Renta con Finos Acabados y Pisos de Po...  MN 2,516,000  \n",
      "939      Casa en Renta en Lomas del Campanario I, D178     MN 35,000  \n",
      "940         Casa Moderna en Renta, Valle de Juriquilla     MN 19,500  \n",
      "\n",
      "[941 rows x 4 columns]\n"
     ]
    }
   ],
   "source": [
    "import numpy as np\n",
    "import pandas as pd\n",
    "data=pd.read_csv(r\"lamudi_casa_2.csv\",dtype=\"string\")\n",
    "print(data)"
   ]
  },
  {
   "cell_type": "code",
   "execution_count": 111,
   "id": "large-library",
   "metadata": {
    "scrolled": true
   },
   "outputs": [
    {
     "name": "stdout",
     "output_type": "stream",
     "text": [
      "0           $12,000\n",
      "1           $55,000\n",
      "2           $10,000\n",
      "3           $17,900\n",
      "4           $14,200\n",
      "           ...     \n",
      "936       MN 14,000\n",
      "937       MN 13,000\n",
      "938    MN 2,516,000\n",
      "939       MN 35,000\n",
      "940       MN 19,500\n",
      "Name: precio, Length: 941, dtype: string\n"
     ]
    }
   ],
   "source": [
    "print(data['precio'])"
   ]
  },
  {
   "cell_type": "code",
   "execution_count": 112,
   "id": "placed-homeless",
   "metadata": {},
   "outputs": [],
   "source": [
    "replace('Contactaragenteparasaberprecio','0'))data['precio'] = data['precio'].apply(lambda x: x.replace('$', '').replace(',', '').replace('MN','').replace('USD','').replace(' ','')..astype(float)"
   ]
  },
  {
   "cell_type": "code",
   "execution_count": 113,
   "id": "neural-zoning",
   "metadata": {
    "scrolled": true
   },
   "outputs": [],
   "source": [
    "data['precio'] = data['precio'].replace(0,np.NaN)"
   ]
  },
  {
   "cell_type": "code",
   "execution_count": 114,
   "id": "insured-balloon",
   "metadata": {
    "scrolled": true
   },
   "outputs": [
    {
     "name": "stdout",
     "output_type": "stream",
     "text": [
      "web-scraper-order         string\n",
      "web-scraper-start-url     string\n",
      "descrip                   string\n",
      "precio                   float64\n",
      "dtype: object\n",
      "0        12000.0\n",
      "1        55000.0\n",
      "2        10000.0\n",
      "3        17900.0\n",
      "4        14200.0\n",
      "         ...    \n",
      "936      14000.0\n",
      "937      13000.0\n",
      "938    2516000.0\n",
      "939      35000.0\n",
      "940      19500.0\n",
      "Name: precio, Length: 941, dtype: float64\n"
     ]
    }
   ],
   "source": [
    "print(data.dtypes)\n",
    "print(data['precio'])"
   ]
  },
  {
   "cell_type": "code",
   "execution_count": 115,
   "id": "right-southeast",
   "metadata": {
    "scrolled": true
   },
   "outputs": [
    {
     "name": "stdout",
     "output_type": "stream",
     "text": [
      "65278.302027748134\n"
     ]
    }
   ],
   "source": [
    "prom = data['precio'].mean()\n",
    "print(prom)"
   ]
  },
  {
   "cell_type": "code",
   "execution_count": null,
   "id": "prepared-freight",
   "metadata": {},
   "outputs": [],
   "source": []
  },
  {
   "cell_type": "code",
   "execution_count": null,
   "id": "ideal-turning",
   "metadata": {},
   "outputs": [],
   "source": []
  }
 ],
 "metadata": {
  "kernelspec": {
   "display_name": "Python 3",
   "language": "python",
   "name": "python3"
  },
  "language_info": {
   "codemirror_mode": {
    "name": "ipython",
    "version": 3
   },
   "file_extension": ".py",
   "mimetype": "text/x-python",
   "name": "python",
   "nbconvert_exporter": "python",
   "pygments_lexer": "ipython3",
   "version": "3.6.9"
  }
 },
 "nbformat": 4,
 "nbformat_minor": 5
}
