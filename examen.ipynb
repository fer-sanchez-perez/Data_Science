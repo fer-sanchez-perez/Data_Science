{
 "cells": [
  {
   "cell_type": "code",
   "execution_count": 21,
   "id": "future-battlefield",
   "metadata": {},
   "outputs": [],
   "source": [
    "import pandas as pd\n",
    "df=pd.read_csv(r\"scrap_casa.csv\",dtype=\"string\")"
   ]
  },
  {
   "cell_type": "code",
   "execution_count": 6,
   "id": "confidential-stuff",
   "metadata": {},
   "outputs": [
    {
     "name": "stdout",
     "output_type": "stream",
     "text": [
      "    web-scraper-order                              web-scraper-start-url  \\\n",
      "0    1615707926-16861  https://www.lamudi.com.mx/queretaro-arteaga/qu...   \n",
      "1    1615707948-16935  https://www.lamudi.com.mx/queretaro-arteaga/qu...   \n",
      "2    1615707774-16447  https://www.lamudi.com.mx/queretaro-arteaga/qu...   \n",
      "3    1615707939-16889  https://www.lamudi.com.mx/queretaro-arteaga/qu...   \n",
      "4    1615707820-16568  https://www.lamudi.com.mx/queretaro-arteaga/qu...   \n",
      "..                ...                                                ...   \n",
      "961  1615738939-17690  https://www.inmuebles24.com/casas-en-renta-en-...   \n",
      "962  1615738842-17515  https://www.inmuebles24.com/casas-en-renta-en-...   \n",
      "963  1615738907-17604  https://www.inmuebles24.com/casas-en-renta-en-...   \n",
      "964  1615738939-17697  https://www.inmuebles24.com/casas-en-renta-en-...   \n",
      "965  1615738842-17508  https://www.inmuebles24.com/casas-en-renta-en-...   \n",
      "\n",
      "                                               descrip     precio    pre  \n",
      "0          Casa en renta El Refugio 3 habitaciones AVH    $15,500  15500  \n",
      "1          Casa en renta El Refugio 3 habitaciones JRH    $11,000  11000  \n",
      "2                  CASA EN RENTA MILENIO III LUCEPOLIS    $15,000  15000  \n",
      "3    Casa en El Refugio de 124 mts2 y sala de telev...    $11,500  11500  \n",
      "4                 RENTA DE CASA EN VALLE DE JURIQUILLA    $19,000  19000  \n",
      "..                                                 ...        ...    ...  \n",
      "961                  Casa en Renta en Cumbres del Lago  MN 18,000  18000  \n",
      "962                           Casa Renta El Campanario  MN 85,000  85000  \n",
      "963                          Renta Casa Juriquilla Qro  MN 13,300  13300  \n",
      "964  Casa en Renta en Cumbres del Lago Juriquilla, ...  MN 15,000  15000  \n",
      "965                 Casa en Renta en Res El Campanario  MN 85,000  85000  \n",
      "\n",
      "[966 rows x 5 columns]\n"
     ]
    }
   ],
   "source": [
    "print(df)"
   ]
  },
  {
   "cell_type": "code",
   "execution_count": 24,
   "id": "incident-nutrition",
   "metadata": {
    "scrolled": true
   },
   "outputs": [
    {
     "name": "stdout",
     "output_type": "stream",
     "text": [
      "web-scraper-order         string\n",
      "web-scraper-start-url     string\n",
      "descrip                   string\n",
      "precio                    string\n",
      "pre                      float64\n",
      "dtype: object\n"
     ]
    }
   ],
   "source": [
    "print(df.dtypes)"
   ]
  },
  {
   "cell_type": "code",
   "execution_count": 22,
   "id": "surrounded-pantyhose",
   "metadata": {},
   "outputs": [],
   "source": [
    "df['pre'] = df['pre'].fillna('0').astype(float)"
   ]
  },
  {
   "cell_type": "code",
   "execution_count": 26,
   "id": "ongoing-terrorist",
   "metadata": {},
   "outputs": [
    {
     "name": "stdout",
     "output_type": "stream",
     "text": [
      "69541.49482401657\n"
     ]
    }
   ],
   "source": [
    "promedio = df['pre'].mean()\n",
    "print(promedio)"
   ]
  },
  {
   "cell_type": "code",
   "execution_count": 32,
   "id": "miniature-nepal",
   "metadata": {},
   "outputs": [
    {
     "name": "stdout",
     "output_type": "stream",
     "text": [
      "     web-scraper-order                              web-scraper-start-url  \\\n",
      "0     1615702230-16312  https://www.inmuebles24.com/departamentos-en-r...   \n",
      "1     1615702145-16058  https://www.inmuebles24.com/departamentos-en-r...   \n",
      "2     1615702185-16186  https://www.inmuebles24.com/departamentos-en-r...   \n",
      "3     1615702129-15999  https://www.inmuebles24.com/departamentos-en-r...   \n",
      "4     1615702223-16301  https://www.inmuebles24.com/departamentos-en-r...   \n",
      "...                ...                                                ...   \n",
      "1144  1615701713-15373  https://www.lamudi.com.mx/queretaro-arteaga/qu...   \n",
      "1145  1615701747-15486  https://www.lamudi.com.mx/queretaro-arteaga/qu...   \n",
      "1146  1615701626-15076  https://www.lamudi.com.mx/queretaro-arteaga/qu...   \n",
      "1147  1615701694-15301  https://www.lamudi.com.mx/queretaro-arteaga/qu...   \n",
      "1148  1615701747-15482  https://www.lamudi.com.mx/queretaro-arteaga/qu...   \n",
      "\n",
      "                                               desc_dep precio_depa    pre  \n",
      "0                 Departamento en Planta Baja con Patio   MN 10,000  10000  \n",
      "1     Bonito Departamento en Desarrollo Exclusivo Au...   MN 28,000  28000  \n",
      "2     Juriquilla, Departamento Amueblado Tipo Luxury...   MN 22,500  22500  \n",
      "3     Se Renta Lujoso Departamento en Biosfera Tower...   MN 15,000  15000  \n",
      "4     Departamento Renta en Wiseliving La Cañada en ...   MN 20,000  20000  \n",
      "...                                                 ...         ...    ...  \n",
      "1144                          Departamento - Juriquilla     $22,000  22000  \n",
      "1145  RENTA O VENTA DEPARTAMENTO EN ALTAVISTA JURIQU...     $14,000  14000  \n",
      "1146        DEPARTAMENTO EN RENTA AMUEBLADO, EN ADAMANT     $15,000  15000  \n",
      "1147  Departamento Amueblado en Renta Planta Baja Ju...     $11,500  11500  \n",
      "1148             Departamento en Renta. Juriquilla. FVR     $14,500  14500  \n",
      "\n",
      "[1149 rows x 5 columns]\n"
     ]
    }
   ],
   "source": [
    "import pandas as pd\n",
    "data=pd.read_csv(r\"scrap_depas.csv\",dtype=\"string\")\n",
    "print(data)"
   ]
  },
  {
   "cell_type": "code",
   "execution_count": 33,
   "id": "invalid-rating",
   "metadata": {},
   "outputs": [],
   "source": [
    "data['pre'] = data['pre'].fillna('0').astype(float)"
   ]
  },
  {
   "cell_type": "code",
   "execution_count": 34,
   "id": "athletic-seeking",
   "metadata": {},
   "outputs": [
    {
     "name": "stdout",
     "output_type": "stream",
     "text": [
      "26419.24369016536\n"
     ]
    }
   ],
   "source": [
    "promedio = data['pre'].mean()\n",
    "print(promedio)"
   ]
  },
  {
   "cell_type": "code",
   "execution_count": null,
   "id": "architectural-failure",
   "metadata": {},
   "outputs": [],
   "source": [
    "# ¿cual es el promedio de renta de un departamento en queretaro y cual el de una casa?\n",
    "# utilizando lamudi,inmuebles24 (el refugio,juriquilla,milenio 3,el mirador, el campanario)\n",
    "# departamento= 26419.24369016536\n",
    "# casa= 69541.49482401657"
   ]
  }
 ],
 "metadata": {
  "kernelspec": {
   "display_name": "Python 3",
   "language": "python",
   "name": "python3"
  },
  "language_info": {
   "codemirror_mode": {
    "name": "ipython",
    "version": 3
   },
   "file_extension": ".py",
   "mimetype": "text/x-python",
   "name": "python",
   "nbconvert_exporter": "python",
   "pygments_lexer": "ipython3",
   "version": "3.6.9"
  }
 },
 "nbformat": 4,
 "nbformat_minor": 5
}
