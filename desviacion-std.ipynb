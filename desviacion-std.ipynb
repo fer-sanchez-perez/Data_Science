{
 "cells": [
  {
   "cell_type": "code",
   "execution_count": 1,
   "id": "muslim-insider",
   "metadata": {},
   "outputs": [],
   "source": [
    "import numpy as np\n",
    "import pandas as pd\n",
    "dr=pd.read_csv(r\"departamentos-nuevo.csv\",dtype=\"string\")\n",
    "dr['precio'] = dr['precio'].fillna('0')\n",
    "dr['precio'] = dr['precio'].apply(lambda x: x.replace('$', '').replace(',', '').replace('MN','').replace(' ','').replace('NM','')).astype(float)\n",
    "dr['precio'] = dr['precio'].replace(0,np.NaN)"
   ]
  },
  {
   "cell_type": "code",
   "execution_count": 2,
   "id": "clinical-ordinance",
   "metadata": {},
   "outputs": [
    {
     "name": "stdout",
     "output_type": "stream",
     "text": [
      "El promedio de renta de un departamento es de: $ 18879.704\n",
      "la desviacion estandar de los precios de renta de un departamento es de: $ 8182.147\n"
     ]
    }
   ],
   "source": [
    "print(\"El promedio de renta de un departamento es de: $\",round(dr['precio'].mean(),3))\n",
    "print(\"la desviacion estandar de los precios de renta de un departamento es de: $\",round(dr['precio'].std(ddof=1),3))"
   ]
  },
  {
   "cell_type": "code",
   "execution_count": 5,
   "id": "mediterranean-dialogue",
   "metadata": {},
   "outputs": [
    {
     "name": "stdout",
     "output_type": "stream",
     "text": [
      "El promedio de venta de una casa es de: $ 6077096.827\n",
      "la desviacion estandar de los precios de renta de un departamento es de: $ 25076642.909\n"
     ]
    }
   ],
   "source": [
    "dt=pd.read_csv(r\"scrap-casa-venta (2).csv\",dtype=\"string\")\n",
    "dt['precio'] = dt['precio'].fillna('0')\n",
    "dt['precio'] = dt['precio'].apply(lambda x: x.replace('$', '').replace(',', '').replace('MN','').replace(' ','').replace('NM','').replace('MX','')).astype(float)\n",
    "dt['precio'] = dt['precio'].replace(0,np.NaN)\n",
    "print(\"El promedio de venta de una casa es de: $\",round(dt['precio'].mean(),3))\n",
    "print(\"la desviacion estandar de los precios de renta de un departamento es de: $\",round(dt['precio'].std(ddof=1),3))"
   ]
  },
  {
   "cell_type": "code",
   "execution_count": null,
   "id": "light-rapid",
   "metadata": {},
   "outputs": [],
   "source": []
  }
 ],
 "metadata": {
  "kernelspec": {
   "display_name": "Python 3",
   "language": "python",
   "name": "python3"
  },
  "language_info": {
   "codemirror_mode": {
    "name": "ipython",
    "version": 3
   },
   "file_extension": ".py",
   "mimetype": "text/x-python",
   "name": "python",
   "nbconvert_exporter": "python",
   "pygments_lexer": "ipython3",
   "version": "3.6.9"
  }
 },
 "nbformat": 4,
 "nbformat_minor": 5
}
