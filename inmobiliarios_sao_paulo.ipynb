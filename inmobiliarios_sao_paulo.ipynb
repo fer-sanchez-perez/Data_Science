{
 "cells": [
  {
   "cell_type": "code",
   "execution_count": 12,
   "id": "collaborative-management",
   "metadata": {},
   "outputs": [],
   "source": [
    "import pandas as pd\n",
    "df=pd.read_csv(r\"sao-paulo-properties-april-2019.csv\")"
   ]
  },
  {
   "cell_type": "code",
   "execution_count": 13,
   "id": "suitable-player",
   "metadata": {},
   "outputs": [
    {
     "name": "stdout",
     "output_type": "stream",
     "text": [
      "        Price  Condo  Size  Rooms  Toilets  Suites  Parking  Elevator  \\\n",
      "0         930    220    47      2        2       1        1         0   \n",
      "1        1000    148    45      2        2       1        1         0   \n",
      "2        1000    100    48      2        2       1        1         0   \n",
      "3        1000    200    48      2        2       1        1         0   \n",
      "4        1300    410    55      2        2       1        1         1   \n",
      "...       ...    ...   ...    ...      ...     ...      ...       ...   \n",
      "13635  265000    420    51      2        1       0        1         0   \n",
      "13636  545000    630    74      3        2       1        2         0   \n",
      "13637  515000   1100   114      3        3       1        1         0   \n",
      "13638  345000     48    39      1        2       1        1         0   \n",
      "13639  161987      0    44      2        1       0        1         0   \n",
      "\n",
      "       Furnished  Swimming Pool  New                 District  \\\n",
      "0              0              0    0    Artur Alvim/São Paulo   \n",
      "1              0              0    0    Artur Alvim/São Paulo   \n",
      "2              0              0    0    Artur Alvim/São Paulo   \n",
      "3              0              0    0    Artur Alvim/São Paulo   \n",
      "4              0              0    0    Artur Alvim/São Paulo   \n",
      "...          ...            ...  ...                      ...   \n",
      "13635          0              0    0      Jabaquara/São Paulo   \n",
      "13636          0              1    0      Jabaquara/São Paulo   \n",
      "13637          0              1    0      Jabaquara/São Paulo   \n",
      "13638          1              1    0      Jabaquara/São Paulo   \n",
      "13639          0              0    0  Jardim Ângela/São Paulo   \n",
      "\n",
      "      Negotiation Type Property Type   Latitude  Longitude  \n",
      "0                 rent     apartment -23.543138 -46.479486  \n",
      "1                 rent     apartment -23.550239 -46.480718  \n",
      "2                 rent     apartment -23.542818 -46.485665  \n",
      "3                 rent     apartment -23.547171 -46.483014  \n",
      "4                 rent     apartment -23.525025 -46.482436  \n",
      "...                ...           ...        ...        ...  \n",
      "13635             sale     apartment -23.653004 -46.635463  \n",
      "13636             sale     apartment -23.648930 -46.641982  \n",
      "13637             sale     apartment -23.649693 -46.649783  \n",
      "13638             sale     apartment -23.652060 -46.637046  \n",
      "13639             sale     apartment -23.613391 -46.523109  \n",
      "\n",
      "[13640 rows x 16 columns]\n",
      "<class 'pandas.core.frame.DataFrame'>\n"
     ]
    }
   ],
   "source": [
    "print(df)\n",
    "print(type(df))"
   ]
  },
  {
   "cell_type": "code",
   "execution_count": 22,
   "id": "interim-liver",
   "metadata": {
    "scrolled": true
   },
   "outputs": [
    {
     "name": "stdout",
     "output_type": "stream",
     "text": [
      "3077.6690647482014\n"
     ]
    }
   ],
   "source": [
    "prom_renta = df.loc[df['Negotiation Type'] == \"rent\", 'Price'].mean()\n",
    "print(prom_renta)"
   ]
  },
  {
   "cell_type": "code",
   "execution_count": null,
   "id": "determined-daisy",
   "metadata": {},
   "outputs": [],
   "source": [
    "#el promedio de precio de renta en sao paulo es de 3077.660..."
   ]
  },
  {
   "cell_type": "code",
   "execution_count": null,
   "id": "sought-litigation",
   "metadata": {},
   "outputs": [],
   "source": []
  }
 ],
 "metadata": {
  "kernelspec": {
   "display_name": "Python 3",
   "language": "python",
   "name": "python3"
  },
  "language_info": {
   "codemirror_mode": {
    "name": "ipython",
    "version": 3
   },
   "file_extension": ".py",
   "mimetype": "text/x-python",
   "name": "python",
   "nbconvert_exporter": "python",
   "pygments_lexer": "ipython3",
   "version": "3.6.9"
  }
 },
 "nbformat": 4,
 "nbformat_minor": 5
}
