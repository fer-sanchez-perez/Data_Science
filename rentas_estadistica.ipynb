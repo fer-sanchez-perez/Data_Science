{
 "cells": [
  {
   "cell_type": "code",
   "execution_count": 223,
   "id": "junior-scholar",
   "metadata": {},
   "outputs": [],
   "source": [
    "import numpy as np\n",
    "import pandas as pd\n",
    "dr=pd.read_csv(r\"departamentos-nuevo.csv\",dtype=\"string\")\n",
    "drsc=pd.read_csv(r\"departamentos-nuevo-sc.csv\",dtype=\"string\")\n",
    "cr=pd.read_csv(r\"casas-nuevo.csv\",dtype=\"string\")\n",
    "crsc=pd.read_csv(r\"casas-nuevo-sc.csv\",dtype=\"string\")\n"
   ]
  },
  {
   "cell_type": "code",
   "execution_count": 224,
   "id": "reliable-welcome",
   "metadata": {
    "scrolled": true
   },
   "outputs": [
    {
     "name": "stdout",
     "output_type": "stream",
     "text": [
      "El promedio de renta de un departamento es de: $ 18879.704\n",
      "el precio mas alto en departamentos es de: $ 164640.0\n",
      "el precio mas bajo en departamentos es de: $ 3500.0\n",
      "la mediana en departamentos es de: $ 18000.0\n",
      "la moda en departamentos es de: $ 0    18000.0\n",
      "dtype: float64\n"
     ]
    }
   ],
   "source": [
    "dr['precio'] = dr['precio'].fillna('0')\n",
    "dr['precio'] = dr['precio'].apply(lambda x: x.replace('$', '').replace(',', '').replace('MN','').replace(' ','').replace('NM','')).astype(float)\n",
    "dr['precio'] = dr['precio'].replace(0,np.NaN)\n",
    "print(\"El promedio de renta de un departamento es de: $\",round(dr['precio'].mean(),3))\n",
    "print(\"El precio mas alto en departamentos es de: $\",dr['precio'].max())\n",
    "print(\"El precio mas bajo en departamentos es de: $\",dr['precio'].min())\n",
    "print(\"La mediana en departamentos es de: $\",dr['precio'].median())\n",
    "print(\"La moda en departamentos es de: $\",dr['precio'].mode())\n"
   ]
  },
  {
   "cell_type": "code",
   "execution_count": 225,
   "id": "opponent-bhutan",
   "metadata": {},
   "outputs": [
    {
     "name": "stdout",
     "output_type": "stream",
     "text": [
      "(sin el campanario)El promedio de renta de un departamento es de: $ 18628.267\n",
      "(sin el campanario)El precio mas alto en departamentos es de: $ 164640.0\n",
      "(sin el campanario)El precio mas bajo en departamentos es de: $ 3500.0\n",
      "(sin el campanario)La mediana en departamentos es de: $ 18000.0\n",
      "(sin el campanario)La moda en departamentos es de: $ 0    18000.0\n",
      "dtype: float64\n"
     ]
    }
   ],
   "source": [
    "drsc['precio'] = drsc['precio'].fillna('0')\n",
    "drsc['precio'] = drsc['precio'].apply(lambda x: x.replace('$', '').replace(',', '').replace('MN','').replace(' ','').replace('NM','')).astype(float)\n",
    "\n",
    "drsc['precio'] = drsc['precio'].replace(0,np.NaN)\n",
    "print(\"(sin el campanario)El promedio de renta de un departamento es de: $\",round(drsc['precio'].mean(),3))\n",
    "print(\"(sin el campanario)El precio mas alto en departamentos es de: $\",drsc['precio'].max())\n",
    "print(\"(sin el campanario)El precio mas bajo en departamentos es de: $\",drsc['precio'].min())\n",
    "print(\"(sin el campanario)La mediana en departamentos es de: $\",drsc['precio'].median())\n",
    "print(\"(sin el campanario)La moda en departamentos es de: $\",drsc['precio'].mode())"
   ]
  },
  {
   "cell_type": "code",
   "execution_count": 226,
   "id": "paperback-hindu",
   "metadata": {},
   "outputs": [
    {
     "name": "stdout",
     "output_type": "stream",
     "text": [
      "El promedio de renta de una casa es de: $ 21572.439\n",
      "el precio mas alto en casas es de: $ 144060.0\n",
      "el precio mas bajo en casas es de: $ 2500.0\n",
      "La mediana en casas es de: $ 16500.0\n",
      "La moda en casas es de: $ 0    18000.0\n",
      "dtype: float64\n"
     ]
    }
   ],
   "source": [
    "cr['precio'] = cr['precio'].fillna('0')\n",
    "cr['precio'] = cr['precio'].apply(lambda x: x.replace('$', '').replace(',', '').replace('MN','').replace(' ','').replace('NM','')).astype(float)\n",
    "cr['precio'] = cr['precio'].replace(0,np.NaN)\n",
    "print(\"El promedio de renta de una casa es de: $\",round(cr['precio'].mean(),3))\n",
    "print(\"el precio mas alto en casas es de: $\",cr['precio'].max())\n",
    "print(\"el precio mas bajo en casas es de: $\",cr['precio'].min())\n",
    "print(\"La mediana en casas es de: $\",cr['precio'].median())\n",
    "print(\"La moda en casas es de: $\",cr['precio'].mode())"
   ]
  },
  {
   "cell_type": "code",
   "execution_count": 227,
   "id": "solar-bridal",
   "metadata": {},
   "outputs": [
    {
     "name": "stdout",
     "output_type": "stream",
     "text": [
      "(sin el campanario) El promedio de renta de una casa es de: $ 19854.387\n",
      "(sin el campanario)el precio mas alto en casas es de: $ 120000.0\n",
      "(sin el campanario)el precio mas bajo en casas es de: $ 2500.0\n",
      "(sin el campanario)La mediana en casas es de: $ 16000.0\n",
      "(sin el campanario)La moda en casas es de: $ 0    18000.0\n",
      "dtype: float64\n"
     ]
    }
   ],
   "source": [
    "crsc['precio'] = crsc['precio'].fillna('0')\n",
    "crsc['precio'] = crsc['precio'].apply(lambda x: x.replace('$', '').replace(',', '').replace('MN','').replace(' ','').replace('NM','')).astype(float)\n",
    "crsc['precio'] = crsc['precio'].replace(0,np.NaN)\n",
    "print(\"(sin el campanario) El promedio de renta de una casa es de: $\",round(crsc['precio'].mean(),3))\n",
    "print(\"(sin el campanario)el precio mas alto en casas es de: $\",crsc['precio'].max())\n",
    "print(\"(sin el campanario)el precio mas bajo en casas es de: $\",crsc['precio'].min())\n",
    "print(\"(sin el campanario)La mediana en casas es de: $\",crsc['precio'].median())\n",
    "print(\"(sin el campanario)La moda en casas es de: $\",crsc['precio'].mode())"
   ]
  },
  {
   "cell_type": "code",
   "execution_count": null,
   "id": "equal-chrome",
   "metadata": {
    "scrolled": false
   },
   "outputs": [],
   "source": [
    "\n"
   ]
  },
  {
   "cell_type": "code",
   "execution_count": null,
   "id": "brown-junction",
   "metadata": {
    "scrolled": false
   },
   "outputs": [],
   "source": []
  }
 ],
 "metadata": {
  "kernelspec": {
   "display_name": "Python 3",
   "language": "python",
   "name": "python3"
  },
  "language_info": {
   "codemirror_mode": {
    "name": "ipython",
    "version": 3
   },
   "file_extension": ".py",
   "mimetype": "text/x-python",
   "name": "python",
   "nbconvert_exporter": "python",
   "pygments_lexer": "ipython3",
   "version": "3.6.9"
  }
 },
 "nbformat": 4,
 "nbformat_minor": 5
}
